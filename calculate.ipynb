{
 "cells": [
  {
   "cell_type": "code",
   "execution_count": 67,
   "metadata": {},
   "outputs": [
    {
     "name": "stdout",
     "output_type": "stream",
     "text": [
      "0.121\n"
     ]
    }
   ],
   "source": [
    "a = 0.654\n",
    "b = 0.489\n",
    "c = 0.421\n",
    "d = 0.43\n",
    "\n",
    "mean = 0.585\n",
    "\n",
    "AE = 1/4 * (abs(a - mean) + \n",
    "            abs(b - mean) + \n",
    "            abs(c - mean) + \n",
    "            abs(d - mean))\n",
    "\n",
    "print(AE)"
   ]
  }
 ],
 "metadata": {
  "kernelspec": {
   "display_name": "comp9991",
   "language": "python",
   "name": "python3"
  },
  "language_info": {
   "codemirror_mode": {
    "name": "ipython",
    "version": 3
   },
   "file_extension": ".py",
   "mimetype": "text/x-python",
   "name": "python",
   "nbconvert_exporter": "python",
   "pygments_lexer": "ipython3",
   "version": "3.9.18"
  }
 },
 "nbformat": 4,
 "nbformat_minor": 2
}
